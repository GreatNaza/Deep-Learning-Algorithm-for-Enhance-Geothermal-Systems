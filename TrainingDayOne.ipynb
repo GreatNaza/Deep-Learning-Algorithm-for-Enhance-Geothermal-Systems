{
 "cells": [
  {
   "cell_type": "code",
   "execution_count": 5,
   "id": "0d6272e9",
   "metadata": {},
   "outputs": [],
   "source": [
    "from skimage import data, color\n",
    "from skimage.io import imshow\n",
    "import numpy as np\n",
    "from copy import deepcopy\n",
    "import matplotlib.pyplot as plt"
   ]
  },
  {
   "cell_type": "code",
   "execution_count": null,
   "id": "520090c2",
   "metadata": {},
   "outputs": [],
   "source": []
  },
  {
   "cell_type": "markdown",
   "id": "fedca96f",
   "metadata": {},
   "source": [
    "### JUMP STATEMENTS"
   ]
  },
  {
   "cell_type": "markdown",
   "id": "427d8b2d",
   "metadata": {},
   "source": [
    "## Break\n",
    "### It is used to end a running loop.It is usually introduced after the IF Statements.\n"
   ]
  },
  {
   "cell_type": "code",
   "execution_count": null,
   "id": "dabc6448",
   "metadata": {},
   "outputs": [
    {
     "name": "stdout",
     "output_type": "stream",
     "text": [
      "Enter password :cOLL\n",
      "Wrong password\n",
      "Wrong password\n",
      "Wrong password\n",
      "Wrong password\n",
      "Wrong password\n",
      "Wrong password\n",
      "Wrong password\n",
      "Wrong password\n"
     ]
    }
   ],
   "source": [
    "password = \"Collins5\"\n",
    "\n",
    "for trial in range(1,5):\n",
    "    \n",
    "    if trial ==4:\n",
    "        print(\"Just one trial left!\")\n",
    "        \n",
    "    Enter_password = input(\"Enter password :\")\n",
    "    if Enter_password ==password:\n",
    "        print(\"Correct password\")\n",
    "        break\n",
    "            \n",
    "    \n",
    "    else:\n",
    "        print(\"Wrong password\")\n",
    "           \n",
    "    "
   ]
  },
  {
   "cell_type": "code",
   "execution_count": 12,
   "id": "038f2b08",
   "metadata": {},
   "outputs": [
    {
     "name": "stdout",
     "output_type": "stream",
     "text": [
      "0\n",
      "1\n",
      "2\n",
      "end\n",
      "0\n",
      "1\n",
      "2\n",
      "end\n",
      "0\n",
      "1\n",
      "2\n",
      "end\n",
      "0\n",
      "1\n",
      "2\n",
      "end\n",
      "0\n",
      "1\n",
      "2\n",
      "end\n",
      "0\n",
      "1\n",
      "2\n",
      "end\n",
      "0\n",
      "1\n",
      "2\n",
      "end\n",
      "0\n",
      "1\n",
      "2\n",
      "end\n"
     ]
    }
   ],
   "source": [
    "#number =0\n",
    "for number in range(4):\n",
    "    if number ==3:\n",
    "        break\n",
    "    print(number)    \n",
    "print(\"end\")"
   ]
  },
  {
   "cell_type": "code",
   "execution_count": 15,
   "id": "ed6b28dd",
   "metadata": {},
   "outputs": [
    {
     "name": "stdout",
     "output_type": "stream",
     "text": [
      "P\n",
      "y\n",
      "t\n",
      "P\n",
      "y\n",
      "t\n",
      "P\n",
      "y\n",
      "t\n",
      "P\n",
      "y\n",
      "t\n",
      "P\n",
      "y\n",
      "t\n",
      "P\n",
      "y\n",
      "t\n",
      "P\n",
      "y\n",
      "t\n",
      "P\n",
      "y\n",
      "t\n"
     ]
    }
   ],
   "source": [
    "for letter in \"Python\":\n",
    "    if letter == \"h\":\n",
    "        break\n",
    "    print(letter)"
   ]
  },
  {
   "cell_type": "code",
   "execution_count": 3,
   "id": "1fd4ecfa",
   "metadata": {},
   "outputs": [
    {
     "name": "stdout",
     "output_type": "stream",
     "text": [
      "0\n",
      "1\n",
      "2\n",
      "4\n",
      "0\n",
      "1\n",
      "2\n",
      "4\n",
      "0\n",
      "1\n",
      "2\n",
      "4\n",
      "0\n",
      "1\n",
      "2\n",
      "4\n",
      "0\n",
      "1\n",
      "2\n",
      "4\n",
      "0\n",
      "1\n",
      "2\n",
      "4\n",
      "0\n",
      "1\n",
      "2\n",
      "4\n",
      "0\n",
      "1\n",
      "2\n",
      "4\n"
     ]
    }
   ],
   "source": [
    "number =0\n",
    "for number in range(5):\n",
    "    if number == 3:\n",
    "        continue\n",
    "    print(number)   "
   ]
  },
  {
   "cell_type": "code",
   "execution_count": null,
   "id": "7abc0195",
   "metadata": {},
   "outputs": [],
   "source": []
  }
 ],
 "metadata": {
  "kernelspec": {
   "display_name": "Python 3",
   "language": "python",
   "name": "python3"
  },
  "language_info": {
   "codemirror_mode": {
    "name": "ipython",
    "version": 3
   },
   "file_extension": ".py",
   "mimetype": "text/x-python",
   "name": "python",
   "nbconvert_exporter": "python",
   "pygments_lexer": "ipython3",
   "version": "3.8.8"
  }
 },
 "nbformat": 4,
 "nbformat_minor": 5
}
